{
  "nbformat": 4,
  "nbformat_minor": 0,
  "metadata": {
    "colab": {
      "name": "Untitled0.ipynb",
      "provenance": []
    },
    "kernelspec": {
      "name": "python3",
      "display_name": "Python 3"
    },
    "language_info": {
      "name": "python"
    }
  },
  "cells": [
    {
      "cell_type": "markdown",
      "source": [
        "# **logistic regression based on Neural Network**\n",
        "\n",
        "## 使用keras/tensorflow"
      ],
      "metadata": {
        "id": "UrQjxMXbi1C7"
      }
    },
    {
      "cell_type": "code",
      "execution_count": 24,
      "metadata": {
        "id": "X8wthkrGCYM5"
      },
      "outputs": [],
      "source": [
        "import numpy as np\n",
        "import tensorflow as tf\n",
        "from tensorflow import keras\n",
        "import pandas as pd\n",
        "from matplotlib import pyplot as plt\n",
        "from sklearn import preprocessing\n",
        "from sklearn.datasets import load_boston\n",
        "import warnings\n",
        "from sklearn.utils import shuffle\n",
        "warnings.simplefilter(action='ignore', category=FutureWarning)\n",
        "%matplotlib inline"
      ]
    },
    {
      "cell_type": "code",
      "source": [
        "dataset = load_boston()\n",
        "df = pd.DataFrame(dataset.data,columns=dataset.feature_names)\n",
        "df['MEDV'] = dataset.target\n",
        "df = shuffle(df)\n",
        "\n",
        "X = pd.DataFrame(np.c_[df['LSTAT'], df['RM']], columns = ['LSTAT','RM'])\n",
        "Y=df['MEDV']\n",
        "\n",
        "X = preprocessing.scale(X)  "
      ],
      "metadata": {
        "id": "NhzitwLgCakc"
      },
      "execution_count": 25,
      "outputs": []
    },
    {
      "cell_type": "code",
      "source": [
        "Y_0_1 = Y.copy()\n",
        "  \n",
        "# 归一化 把数据集中到(0,1)\n",
        "\n",
        "Y_0_1 = (Y_0_1 - Y_0_1.min()) / (Y_0_1.max() - Y_0_1.min())   "
      ],
      "metadata": {
        "id": "PnapBuGBMU8C"
      },
      "execution_count": 26,
      "outputs": []
    },
    {
      "cell_type": "code",
      "source": [
        "from sklearn.model_selection import train_test_split\n",
        "X_train, X_test, y_train, y_test = train_test_split(X,Y_0_1,test_size=0.2, random_state=25)"
      ],
      "metadata": {
        "id": "sNHkIElKH32t"
      },
      "execution_count": 27,
      "outputs": []
    },
    {
      "cell_type": "code",
      "source": [
        "model = keras.Sequential([\n",
        "    keras.layers.Dense(1, input_shape=(2,), activation='sigmoid', kernel_initializer='ones', bias_initializer='zeros')\n",
        "])\n",
        "\n",
        "model.compile(optimizer='adam',loss='binary_crossentropy',metrics=['mse'])\n",
        "\n",
        "model.fit(X_train, y_train, epochs=1000)"
      ],
      "metadata": {
        "collapsed": true,
        "id": "LRvX3Yb4Krg0"
      },
      "execution_count": null,
      "outputs": []
    },
    {
      "cell_type": "markdown",
      "source": [
        "### 下面进行预测，得到mse值为0.011，mse的越接近于0，效果越好"
      ],
      "metadata": {
        "id": "8VRA_U72h8un"
      }
    },
    {
      "cell_type": "code",
      "source": [
        "model.evaluate(X_test,y_test)"
      ],
      "metadata": {
        "colab": {
          "base_uri": "https://localhost:8080/",
          "height": 0
        },
        "id": "jjgbsofCevYT",
        "outputId": "a87be6a4-697e-455a-d0f8-573078af69c9"
      },
      "execution_count": 32,
      "outputs": [
        {
          "output_type": "stream",
          "name": "stdout",
          "text": [
            "4/4 [==============================] - 0s 4ms/step - loss: 0.6234 - mse: 0.0110\n"
          ]
        },
        {
          "output_type": "execute_result",
          "data": {
            "text/plain": [
              "[0.6233891844749451, 0.010959524661302567]"
            ]
          },
          "metadata": {},
          "execution_count": 32
        }
      ]
    }
  ]
}